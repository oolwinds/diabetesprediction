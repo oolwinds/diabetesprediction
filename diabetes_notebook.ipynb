{
 "cells": [
  {
   "cell_type": "markdown",
   "id": "e7da899f",
   "metadata": {},
   "source": [
    "\n",
    "# MACHINE LEARNING Diabetes  Prediction Notebook\n",
    "#### Done by Oo Lwin \n"
   ]
  },
  {
   "cell_type": "markdown",
   "id": "199d6b26",
   "metadata": {},
   "source": [
    "### Supervised Learning(Classification) Task on Pima Indian Diabetes Dataset\n",
    "\n",
    "https://www.openml.org/search?type=data&status=active&id=43582\n",
    "\n",
    "##### Problem Statement\n",
    "Develop a machine learning model to predict the onset of diabetes in individuals based on medical and demographic features such as age, BMI, insulin levels, and family history. This model aims to improve early diagnosis and intervention for better patient outcomes, allowing healthcare providers to implement personalized treatment plans and educate high-risk individuals on lifestyle modifications to prevent or delay the onset of diabetes."
   ]
  },
  {
   "cell_type": "markdown",
   "id": "bc2d3c61",
   "metadata": {},
   "source": [
    "### Machine Learning Workflow for supervised learning\n",
    "\n",
    "###### Data Set -> Data Pre-processing -> Data Analysis -> Train Test Split -> Feed to various models -> evaluation  "
   ]
  },
  {
   "cell_type": "code",
   "execution_count": 51,
   "id": "a4b489b4",
   "metadata": {},
   "outputs": [],
   "source": [
    "#importing the necessary libraries \n",
    "#Pre Processing\n",
    "import numpy as np\n",
    "import pandas as pd\n",
    "import matplotlib.pyplot as plt\n",
    "import seaborn as sns\n",
    "from sklearn.preprocessing import StandardScaler\n",
    "from sklearn.model_selection import train_test_split\n",
    "from sklearn.metrics import accuracy_score\n",
    "from statsmodels.stats.outliers_influence import variance_inflation_factor\n",
    "import math\n",
    "import warnings #to avoid memory leak warning in jupyter\n",
    "warnings.filterwarnings('ignore')\n",
    "\n",
    "#Classification\n",
    "from sklearn import svm\n",
    "from sklearn.decomposition import PCA\n",
    "from sklearn.ensemble import RandomForestClassifier\n",
    "from sklearn.linear_model import LogisticRegression\n",
    "from sklearn.svm import SVC\n",
    "from sklearn.neighbors import KNeighborsClassifier\n",
    "from sklearn.naive_bayes import GaussianNB\n",
    "from sklearn.metrics import classification_report, confusion_matrix\n",
    "from sklearn.metrics import precision_score\n",
    "from sklearn.metrics import roc_curve, auc\n",
    "from sklearn.metrics import precision_recall_curve, average_precision_score\n",
    "\n",
    "\n"
   ]
  },
  {
   "cell_type": "code",
   "execution_count": 52,
   "id": "11f291f1",
   "metadata": {},
   "outputs": [],
   "source": [
    "dataset = pd.read_csv(\"diabetes.csv\")"
   ]
  },
  {
   "cell_type": "code",
   "execution_count": 53,
   "id": "fb6aaca7",
   "metadata": {},
   "outputs": [
    {
     "data": {
      "text/html": [
       "<div>\n",
       "<style scoped>\n",
       "    .dataframe tbody tr th:only-of-type {\n",
       "        vertical-align: middle;\n",
       "    }\n",
       "\n",
       "    .dataframe tbody tr th {\n",
       "        vertical-align: top;\n",
       "    }\n",
       "\n",
       "    .dataframe thead th {\n",
       "        text-align: right;\n",
       "    }\n",
       "</style>\n",
       "<table border=\"1\" class=\"dataframe\">\n",
       "  <thead>\n",
       "    <tr style=\"text-align: right;\">\n",
       "      <th></th>\n",
       "      <th>Pregnancies</th>\n",
       "      <th>Glucose</th>\n",
       "      <th>BloodPressure</th>\n",
       "      <th>SkinThickness</th>\n",
       "      <th>Insulin</th>\n",
       "      <th>BMI</th>\n",
       "      <th>DiabetesPedigreeFunction</th>\n",
       "      <th>Age</th>\n",
       "      <th>Outcome</th>\n",
       "    </tr>\n",
       "  </thead>\n",
       "  <tbody>\n",
       "    <tr>\n",
       "      <th>0</th>\n",
       "      <td>6</td>\n",
       "      <td>148</td>\n",
       "      <td>72</td>\n",
       "      <td>35</td>\n",
       "      <td>0</td>\n",
       "      <td>33.6</td>\n",
       "      <td>0.627</td>\n",
       "      <td>50</td>\n",
       "      <td>1</td>\n",
       "    </tr>\n",
       "    <tr>\n",
       "      <th>1</th>\n",
       "      <td>1</td>\n",
       "      <td>85</td>\n",
       "      <td>66</td>\n",
       "      <td>29</td>\n",
       "      <td>0</td>\n",
       "      <td>26.6</td>\n",
       "      <td>0.351</td>\n",
       "      <td>31</td>\n",
       "      <td>0</td>\n",
       "    </tr>\n",
       "    <tr>\n",
       "      <th>2</th>\n",
       "      <td>8</td>\n",
       "      <td>183</td>\n",
       "      <td>64</td>\n",
       "      <td>0</td>\n",
       "      <td>0</td>\n",
       "      <td>23.3</td>\n",
       "      <td>0.672</td>\n",
       "      <td>32</td>\n",
       "      <td>1</td>\n",
       "    </tr>\n",
       "    <tr>\n",
       "      <th>3</th>\n",
       "      <td>1</td>\n",
       "      <td>89</td>\n",
       "      <td>66</td>\n",
       "      <td>23</td>\n",
       "      <td>94</td>\n",
       "      <td>28.1</td>\n",
       "      <td>0.167</td>\n",
       "      <td>21</td>\n",
       "      <td>0</td>\n",
       "    </tr>\n",
       "    <tr>\n",
       "      <th>4</th>\n",
       "      <td>0</td>\n",
       "      <td>137</td>\n",
       "      <td>40</td>\n",
       "      <td>35</td>\n",
       "      <td>168</td>\n",
       "      <td>43.1</td>\n",
       "      <td>2.288</td>\n",
       "      <td>33</td>\n",
       "      <td>1</td>\n",
       "    </tr>\n",
       "  </tbody>\n",
       "</table>\n",
       "</div>"
      ],
      "text/plain": [
       "   Pregnancies  Glucose  BloodPressure  SkinThickness  Insulin   BMI  \\\n",
       "0            6      148             72             35        0  33.6   \n",
       "1            1       85             66             29        0  26.6   \n",
       "2            8      183             64              0        0  23.3   \n",
       "3            1       89             66             23       94  28.1   \n",
       "4            0      137             40             35      168  43.1   \n",
       "\n",
       "   DiabetesPedigreeFunction  Age  Outcome  \n",
       "0                     0.627   50        1  \n",
       "1                     0.351   31        0  \n",
       "2                     0.672   32        1  \n",
       "3                     0.167   21        0  \n",
       "4                     2.288   33        1  "
      ]
     },
     "execution_count": 53,
     "metadata": {},
     "output_type": "execute_result"
    }
   ],
   "source": [
    "dataset.head()"
   ]
  },
  {
   "cell_type": "markdown",
   "id": "80b8ade9",
   "metadata": {},
   "source": [
    "As we will be creating a web app for the public to use, they won't know the DiabetesPedigreeFunction or the skin thickness, \n",
    "but during the feature importance, we have seen that DiabetesPedigreeFunction plays a huge role in detecting diabetes.\n",
    "For simplicity sake, we will change it to a binary so that it will be easier for the public to use using > mean of DiabetesPedigreeFunction or < mean of DiabetesPedigreeFunction."
   ]
  },
  {
   "cell_type": "code",
   "execution_count": 90,
   "id": "87042cc2",
   "metadata": {},
   "outputs": [],
   "source": [
    "dataset = dataset.drop(['SkinThickness'],axis=1)"
   ]
  },
  {
   "cell_type": "code",
   "execution_count": 102,
   "id": "48308225",
   "metadata": {},
   "outputs": [
    {
     "data": {
      "text/html": [
       "<div>\n",
       "<style scoped>\n",
       "    .dataframe tbody tr th:only-of-type {\n",
       "        vertical-align: middle;\n",
       "    }\n",
       "\n",
       "    .dataframe tbody tr th {\n",
       "        vertical-align: top;\n",
       "    }\n",
       "\n",
       "    .dataframe thead th {\n",
       "        text-align: right;\n",
       "    }\n",
       "</style>\n",
       "<table border=\"1\" class=\"dataframe\">\n",
       "  <thead>\n",
       "    <tr style=\"text-align: right;\">\n",
       "      <th></th>\n",
       "      <th>Pregnancies</th>\n",
       "      <th>Glucose</th>\n",
       "      <th>BloodPressure</th>\n",
       "      <th>Insulin</th>\n",
       "      <th>BMI</th>\n",
       "      <th>DiabetesPedigreeFunction</th>\n",
       "      <th>familydiabetic</th>\n",
       "      <th>Age</th>\n",
       "      <th>Outcome</th>\n",
       "    </tr>\n",
       "  </thead>\n",
       "  <tbody>\n",
       "    <tr>\n",
       "      <th>count</th>\n",
       "      <td>768.000000</td>\n",
       "      <td>768.000000</td>\n",
       "      <td>768.000000</td>\n",
       "      <td>768.000000</td>\n",
       "      <td>768.000000</td>\n",
       "      <td>768.000000</td>\n",
       "      <td>768.000000</td>\n",
       "      <td>768.000000</td>\n",
       "      <td>768.000000</td>\n",
       "    </tr>\n",
       "    <tr>\n",
       "      <th>mean</th>\n",
       "      <td>3.845052</td>\n",
       "      <td>121.681605</td>\n",
       "      <td>72.254807</td>\n",
       "      <td>99.745226</td>\n",
       "      <td>32.450805</td>\n",
       "      <td>0.471876</td>\n",
       "      <td>0.384115</td>\n",
       "      <td>33.240885</td>\n",
       "      <td>0.348958</td>\n",
       "    </tr>\n",
       "    <tr>\n",
       "      <th>std</th>\n",
       "      <td>3.369578</td>\n",
       "      <td>30.436016</td>\n",
       "      <td>12.115932</td>\n",
       "      <td>43.205709</td>\n",
       "      <td>6.875374</td>\n",
       "      <td>0.331329</td>\n",
       "      <td>0.486702</td>\n",
       "      <td>11.760232</td>\n",
       "      <td>0.476951</td>\n",
       "    </tr>\n",
       "    <tr>\n",
       "      <th>min</th>\n",
       "      <td>0.000000</td>\n",
       "      <td>44.000000</td>\n",
       "      <td>24.000000</td>\n",
       "      <td>14.000000</td>\n",
       "      <td>18.200000</td>\n",
       "      <td>0.078000</td>\n",
       "      <td>0.000000</td>\n",
       "      <td>21.000000</td>\n",
       "      <td>0.000000</td>\n",
       "    </tr>\n",
       "    <tr>\n",
       "      <th>25%</th>\n",
       "      <td>1.000000</td>\n",
       "      <td>99.750000</td>\n",
       "      <td>64.000000</td>\n",
       "      <td>79.799479</td>\n",
       "      <td>27.500000</td>\n",
       "      <td>0.243750</td>\n",
       "      <td>0.000000</td>\n",
       "      <td>24.000000</td>\n",
       "      <td>0.000000</td>\n",
       "    </tr>\n",
       "    <tr>\n",
       "      <th>50%</th>\n",
       "      <td>3.000000</td>\n",
       "      <td>117.000000</td>\n",
       "      <td>72.000000</td>\n",
       "      <td>79.799479</td>\n",
       "      <td>32.000000</td>\n",
       "      <td>0.372500</td>\n",
       "      <td>0.000000</td>\n",
       "      <td>29.000000</td>\n",
       "      <td>0.000000</td>\n",
       "    </tr>\n",
       "    <tr>\n",
       "      <th>75%</th>\n",
       "      <td>6.000000</td>\n",
       "      <td>140.250000</td>\n",
       "      <td>80.000000</td>\n",
       "      <td>118.660163</td>\n",
       "      <td>36.600000</td>\n",
       "      <td>0.626250</td>\n",
       "      <td>1.000000</td>\n",
       "      <td>41.000000</td>\n",
       "      <td>1.000000</td>\n",
       "    </tr>\n",
       "    <tr>\n",
       "      <th>max</th>\n",
       "      <td>17.000000</td>\n",
       "      <td>199.000000</td>\n",
       "      <td>122.000000</td>\n",
       "      <td>265.000000</td>\n",
       "      <td>67.100000</td>\n",
       "      <td>2.420000</td>\n",
       "      <td>1.000000</td>\n",
       "      <td>81.000000</td>\n",
       "      <td>1.000000</td>\n",
       "    </tr>\n",
       "  </tbody>\n",
       "</table>\n",
       "</div>"
      ],
      "text/plain": [
       "       Pregnancies     Glucose  BloodPressure     Insulin         BMI  \\\n",
       "count   768.000000  768.000000     768.000000  768.000000  768.000000   \n",
       "mean      3.845052  121.681605      72.254807   99.745226   32.450805   \n",
       "std       3.369578   30.436016      12.115932   43.205709    6.875374   \n",
       "min       0.000000   44.000000      24.000000   14.000000   18.200000   \n",
       "25%       1.000000   99.750000      64.000000   79.799479   27.500000   \n",
       "50%       3.000000  117.000000      72.000000   79.799479   32.000000   \n",
       "75%       6.000000  140.250000      80.000000  118.660163   36.600000   \n",
       "max      17.000000  199.000000     122.000000  265.000000   67.100000   \n",
       "\n",
       "       DiabetesPedigreeFunction  familydiabetic         Age     Outcome  \n",
       "count                768.000000      768.000000  768.000000  768.000000  \n",
       "mean                   0.471876        0.384115   33.240885    0.348958  \n",
       "std                    0.331329        0.486702   11.760232    0.476951  \n",
       "min                    0.078000        0.000000   21.000000    0.000000  \n",
       "25%                    0.243750        0.000000   24.000000    0.000000  \n",
       "50%                    0.372500        0.000000   29.000000    0.000000  \n",
       "75%                    0.626250        1.000000   41.000000    1.000000  \n",
       "max                    2.420000        1.000000   81.000000    1.000000  "
      ]
     },
     "execution_count": 102,
     "metadata": {},
     "output_type": "execute_result"
    }
   ],
   "source": [
    "dataset.describe()"
   ]
  },
  {
   "cell_type": "code",
   "execution_count": 94,
   "id": "aef90563",
   "metadata": {},
   "outputs": [],
   "source": [
    "def diabeticfamily(value):\n",
    "    if value >= 0.471876:\n",
    "        return 1\n",
    "    else:\n",
    "        return 0 "
   ]
  },
  {
   "cell_type": "code",
   "execution_count": 95,
   "id": "790e5388",
   "metadata": {},
   "outputs": [],
   "source": [
    "dataset['familydiabetic'] = dataset['DiabetesPedigreeFunction'].map(diabeticfamily)"
   ]
  },
  {
   "cell_type": "code",
   "execution_count": 98,
   "id": "6eec5202",
   "metadata": {},
   "outputs": [],
   "source": [
    "dataset = dataset[['Pregnancies','Glucose','BloodPressure','Insulin','BMI','DiabetesPedigreeFunction','familydiabetic','Age','Outcome']]"
   ]
  },
  {
   "cell_type": "code",
   "execution_count": 99,
   "id": "94cfa85f",
   "metadata": {},
   "outputs": [
    {
     "data": {
      "text/html": [
       "<div>\n",
       "<style scoped>\n",
       "    .dataframe tbody tr th:only-of-type {\n",
       "        vertical-align: middle;\n",
       "    }\n",
       "\n",
       "    .dataframe tbody tr th {\n",
       "        vertical-align: top;\n",
       "    }\n",
       "\n",
       "    .dataframe thead th {\n",
       "        text-align: right;\n",
       "    }\n",
       "</style>\n",
       "<table border=\"1\" class=\"dataframe\">\n",
       "  <thead>\n",
       "    <tr style=\"text-align: right;\">\n",
       "      <th></th>\n",
       "      <th>Pregnancies</th>\n",
       "      <th>Glucose</th>\n",
       "      <th>BloodPressure</th>\n",
       "      <th>Insulin</th>\n",
       "      <th>BMI</th>\n",
       "      <th>DiabetesPedigreeFunction</th>\n",
       "      <th>familydiabetic</th>\n",
       "      <th>Age</th>\n",
       "      <th>Outcome</th>\n",
       "    </tr>\n",
       "  </thead>\n",
       "  <tbody>\n",
       "    <tr>\n",
       "      <th>0</th>\n",
       "      <td>6</td>\n",
       "      <td>148.0</td>\n",
       "      <td>72.0</td>\n",
       "      <td>79.799479</td>\n",
       "      <td>33.6</td>\n",
       "      <td>0.627</td>\n",
       "      <td>1</td>\n",
       "      <td>50</td>\n",
       "      <td>1</td>\n",
       "    </tr>\n",
       "    <tr>\n",
       "      <th>1</th>\n",
       "      <td>1</td>\n",
       "      <td>85.0</td>\n",
       "      <td>66.0</td>\n",
       "      <td>79.799479</td>\n",
       "      <td>26.6</td>\n",
       "      <td>0.351</td>\n",
       "      <td>0</td>\n",
       "      <td>31</td>\n",
       "      <td>0</td>\n",
       "    </tr>\n",
       "    <tr>\n",
       "      <th>2</th>\n",
       "      <td>8</td>\n",
       "      <td>183.0</td>\n",
       "      <td>64.0</td>\n",
       "      <td>79.799479</td>\n",
       "      <td>23.3</td>\n",
       "      <td>0.672</td>\n",
       "      <td>1</td>\n",
       "      <td>32</td>\n",
       "      <td>1</td>\n",
       "    </tr>\n",
       "    <tr>\n",
       "      <th>3</th>\n",
       "      <td>1</td>\n",
       "      <td>89.0</td>\n",
       "      <td>66.0</td>\n",
       "      <td>94.000000</td>\n",
       "      <td>28.1</td>\n",
       "      <td>0.167</td>\n",
       "      <td>0</td>\n",
       "      <td>21</td>\n",
       "      <td>0</td>\n",
       "    </tr>\n",
       "    <tr>\n",
       "      <th>4</th>\n",
       "      <td>0</td>\n",
       "      <td>137.0</td>\n",
       "      <td>40.0</td>\n",
       "      <td>168.000000</td>\n",
       "      <td>43.1</td>\n",
       "      <td>2.288</td>\n",
       "      <td>1</td>\n",
       "      <td>33</td>\n",
       "      <td>1</td>\n",
       "    </tr>\n",
       "    <tr>\n",
       "      <th>...</th>\n",
       "      <td>...</td>\n",
       "      <td>...</td>\n",
       "      <td>...</td>\n",
       "      <td>...</td>\n",
       "      <td>...</td>\n",
       "      <td>...</td>\n",
       "      <td>...</td>\n",
       "      <td>...</td>\n",
       "      <td>...</td>\n",
       "    </tr>\n",
       "    <tr>\n",
       "      <th>763</th>\n",
       "      <td>10</td>\n",
       "      <td>101.0</td>\n",
       "      <td>76.0</td>\n",
       "      <td>180.000000</td>\n",
       "      <td>32.9</td>\n",
       "      <td>0.171</td>\n",
       "      <td>0</td>\n",
       "      <td>63</td>\n",
       "      <td>0</td>\n",
       "    </tr>\n",
       "    <tr>\n",
       "      <th>764</th>\n",
       "      <td>2</td>\n",
       "      <td>122.0</td>\n",
       "      <td>70.0</td>\n",
       "      <td>79.799479</td>\n",
       "      <td>36.8</td>\n",
       "      <td>0.340</td>\n",
       "      <td>0</td>\n",
       "      <td>27</td>\n",
       "      <td>0</td>\n",
       "    </tr>\n",
       "    <tr>\n",
       "      <th>765</th>\n",
       "      <td>5</td>\n",
       "      <td>121.0</td>\n",
       "      <td>72.0</td>\n",
       "      <td>112.000000</td>\n",
       "      <td>26.2</td>\n",
       "      <td>0.245</td>\n",
       "      <td>0</td>\n",
       "      <td>30</td>\n",
       "      <td>0</td>\n",
       "    </tr>\n",
       "    <tr>\n",
       "      <th>766</th>\n",
       "      <td>1</td>\n",
       "      <td>126.0</td>\n",
       "      <td>60.0</td>\n",
       "      <td>79.799479</td>\n",
       "      <td>30.1</td>\n",
       "      <td>0.349</td>\n",
       "      <td>0</td>\n",
       "      <td>47</td>\n",
       "      <td>1</td>\n",
       "    </tr>\n",
       "    <tr>\n",
       "      <th>767</th>\n",
       "      <td>1</td>\n",
       "      <td>93.0</td>\n",
       "      <td>70.0</td>\n",
       "      <td>79.799479</td>\n",
       "      <td>30.4</td>\n",
       "      <td>0.315</td>\n",
       "      <td>0</td>\n",
       "      <td>23</td>\n",
       "      <td>0</td>\n",
       "    </tr>\n",
       "  </tbody>\n",
       "</table>\n",
       "<p>768 rows × 9 columns</p>\n",
       "</div>"
      ],
      "text/plain": [
       "     Pregnancies  Glucose  BloodPressure     Insulin   BMI  \\\n",
       "0              6    148.0           72.0   79.799479  33.6   \n",
       "1              1     85.0           66.0   79.799479  26.6   \n",
       "2              8    183.0           64.0   79.799479  23.3   \n",
       "3              1     89.0           66.0   94.000000  28.1   \n",
       "4              0    137.0           40.0  168.000000  43.1   \n",
       "..           ...      ...            ...         ...   ...   \n",
       "763           10    101.0           76.0  180.000000  32.9   \n",
       "764            2    122.0           70.0   79.799479  36.8   \n",
       "765            5    121.0           72.0  112.000000  26.2   \n",
       "766            1    126.0           60.0   79.799479  30.1   \n",
       "767            1     93.0           70.0   79.799479  30.4   \n",
       "\n",
       "     DiabetesPedigreeFunction  familydiabetic  Age  Outcome  \n",
       "0                       0.627               1   50        1  \n",
       "1                       0.351               0   31        0  \n",
       "2                       0.672               1   32        1  \n",
       "3                       0.167               0   21        0  \n",
       "4                       2.288               1   33        1  \n",
       "..                        ...             ...  ...      ...  \n",
       "763                     0.171               0   63        0  \n",
       "764                     0.340               0   27        0  \n",
       "765                     0.245               0   30        0  \n",
       "766                     0.349               0   47        1  \n",
       "767                     0.315               0   23        0  \n",
       "\n",
       "[768 rows x 9 columns]"
      ]
     },
     "execution_count": 99,
     "metadata": {},
     "output_type": "execute_result"
    }
   ],
   "source": [
    "dataset"
   ]
  },
  {
   "cell_type": "code",
   "execution_count": 137,
   "id": "322fbc76",
   "metadata": {},
   "outputs": [],
   "source": [
    "dataset = dataset.drop('DiabetesPedigreeFunction',axis=1)"
   ]
  },
  {
   "cell_type": "markdown",
   "id": "98f5bcb7",
   "metadata": {},
   "source": [
    "From the description above, we can see that there are min values of 0 for columns Pregnances to BMI. While it makes sense for Pregnancies to be 0 , it does not make sense for rest of the columns to have a min of \"0\", Hence we will have to impute them with mean values of the respective columns.\n",
    "\n",
    "Columns to imput mean for min 0 values :\n",
    "1. Glucose\n",
    "2. BloodPressure\n",
    "4. Insulin\n",
    "5. BMI"
   ]
  },
  {
   "cell_type": "code",
   "execution_count": 138,
   "id": "87fa3d74",
   "metadata": {},
   "outputs": [
    {
     "data": {
      "text/plain": [
       "(768, 8)"
      ]
     },
     "execution_count": 138,
     "metadata": {},
     "output_type": "execute_result"
    }
   ],
   "source": [
    "#checking the shape before we drop duplicates\n",
    "dataset.shape"
   ]
  },
  {
   "cell_type": "code",
   "execution_count": 139,
   "id": "7879cbc1",
   "metadata": {},
   "outputs": [
    {
     "data": {
      "text/plain": [
       "(768, 8)"
      ]
     },
     "execution_count": 139,
     "metadata": {},
     "output_type": "execute_result"
    }
   ],
   "source": [
    "dataset = dataset.drop_duplicates()\n",
    "dataset.shape\n",
    "\n",
    "#No change in rows before and after, hence there was no duplicates."
   ]
  },
  {
   "cell_type": "code",
   "execution_count": 140,
   "id": "c99ac584",
   "metadata": {},
   "outputs": [
    {
     "data": {
      "text/plain": [
       "Pregnancies       0\n",
       "Glucose           0\n",
       "BloodPressure     0\n",
       "Insulin           0\n",
       "BMI               0\n",
       "familydiabetic    0\n",
       "Age               0\n",
       "Outcome           0\n",
       "dtype: int64"
      ]
     },
     "execution_count": 140,
     "metadata": {},
     "output_type": "execute_result"
    }
   ],
   "source": [
    "#Checking Null values\n",
    "\n",
    "dataset.isnull()\n",
    "dataset.isnull().sum()"
   ]
  },
  {
   "cell_type": "code",
   "execution_count": 141,
   "id": "474094b1",
   "metadata": {},
   "outputs": [
    {
     "name": "stdout",
     "output_type": "stream",
     "text": [
      "No. of zero values in Glucose is 0\n",
      "No. of zero values in BloodPressure is 0\n",
      "No. of zero values in Insulin is 0\n",
      "No. of zero values in BMI is 0\n",
      "No. of zero values in familydiabetic is 473\n"
     ]
    }
   ],
   "source": [
    "#Checking the number of zero values in the min 0 columns above.\n",
    "\n",
    "#creating a df with respective columns only\n",
    "dataset_0columns = dataset.iloc[:,[1,2,3,4,5]]\n",
    "\n",
    "\n",
    "for i in dataset_0columns.columns:\n",
    "    print('No. of zero values in ' + i + ' is', dataset_0columns[dataset_0columns[i]==0].shape[0])"
   ]
  },
  {
   "cell_type": "code",
   "execution_count": 142,
   "id": "aee10b46",
   "metadata": {},
   "outputs": [
    {
     "data": {
      "text/html": [
       "<div>\n",
       "<style scoped>\n",
       "    .dataframe tbody tr th:only-of-type {\n",
       "        vertical-align: middle;\n",
       "    }\n",
       "\n",
       "    .dataframe tbody tr th {\n",
       "        vertical-align: top;\n",
       "    }\n",
       "\n",
       "    .dataframe thead th {\n",
       "        text-align: right;\n",
       "    }\n",
       "</style>\n",
       "<table border=\"1\" class=\"dataframe\">\n",
       "  <thead>\n",
       "    <tr style=\"text-align: right;\">\n",
       "      <th></th>\n",
       "      <th>Pregnancies</th>\n",
       "      <th>Glucose</th>\n",
       "      <th>BloodPressure</th>\n",
       "      <th>Insulin</th>\n",
       "      <th>BMI</th>\n",
       "      <th>familydiabetic</th>\n",
       "      <th>Age</th>\n",
       "      <th>Outcome</th>\n",
       "    </tr>\n",
       "  </thead>\n",
       "  <tbody>\n",
       "    <tr>\n",
       "      <th>count</th>\n",
       "      <td>768.000000</td>\n",
       "      <td>768.000000</td>\n",
       "      <td>768.000000</td>\n",
       "      <td>768.000000</td>\n",
       "      <td>768.000000</td>\n",
       "      <td>768.000000</td>\n",
       "      <td>768.000000</td>\n",
       "      <td>768.000000</td>\n",
       "    </tr>\n",
       "    <tr>\n",
       "      <th>mean</th>\n",
       "      <td>3.845052</td>\n",
       "      <td>121.681605</td>\n",
       "      <td>72.254807</td>\n",
       "      <td>97.783575</td>\n",
       "      <td>32.450805</td>\n",
       "      <td>0.620685</td>\n",
       "      <td>33.240885</td>\n",
       "      <td>0.348958</td>\n",
       "    </tr>\n",
       "    <tr>\n",
       "      <th>std</th>\n",
       "      <td>3.369578</td>\n",
       "      <td>30.436016</td>\n",
       "      <td>12.115932</td>\n",
       "      <td>39.569524</td>\n",
       "      <td>6.875374</td>\n",
       "      <td>0.299753</td>\n",
       "      <td>11.760232</td>\n",
       "      <td>0.476951</td>\n",
       "    </tr>\n",
       "    <tr>\n",
       "      <th>min</th>\n",
       "      <td>0.000000</td>\n",
       "      <td>44.000000</td>\n",
       "      <td>24.000000</td>\n",
       "      <td>14.000000</td>\n",
       "      <td>18.200000</td>\n",
       "      <td>0.384115</td>\n",
       "      <td>21.000000</td>\n",
       "      <td>0.000000</td>\n",
       "    </tr>\n",
       "    <tr>\n",
       "      <th>25%</th>\n",
       "      <td>1.000000</td>\n",
       "      <td>99.750000</td>\n",
       "      <td>64.000000</td>\n",
       "      <td>79.799479</td>\n",
       "      <td>27.500000</td>\n",
       "      <td>0.384115</td>\n",
       "      <td>24.000000</td>\n",
       "      <td>0.000000</td>\n",
       "    </tr>\n",
       "    <tr>\n",
       "      <th>50%</th>\n",
       "      <td>3.000000</td>\n",
       "      <td>117.000000</td>\n",
       "      <td>72.000000</td>\n",
       "      <td>79.799479</td>\n",
       "      <td>32.000000</td>\n",
       "      <td>0.384115</td>\n",
       "      <td>29.000000</td>\n",
       "      <td>0.000000</td>\n",
       "    </tr>\n",
       "    <tr>\n",
       "      <th>75%</th>\n",
       "      <td>6.000000</td>\n",
       "      <td>140.250000</td>\n",
       "      <td>80.000000</td>\n",
       "      <td>118.660163</td>\n",
       "      <td>36.600000</td>\n",
       "      <td>1.000000</td>\n",
       "      <td>41.000000</td>\n",
       "      <td>1.000000</td>\n",
       "    </tr>\n",
       "    <tr>\n",
       "      <th>max</th>\n",
       "      <td>17.000000</td>\n",
       "      <td>199.000000</td>\n",
       "      <td>122.000000</td>\n",
       "      <td>235.000000</td>\n",
       "      <td>67.100000</td>\n",
       "      <td>1.000000</td>\n",
       "      <td>81.000000</td>\n",
       "      <td>1.000000</td>\n",
       "    </tr>\n",
       "  </tbody>\n",
       "</table>\n",
       "</div>"
      ],
      "text/plain": [
       "       Pregnancies     Glucose  BloodPressure     Insulin         BMI  \\\n",
       "count   768.000000  768.000000     768.000000  768.000000  768.000000   \n",
       "mean      3.845052  121.681605      72.254807   97.783575   32.450805   \n",
       "std       3.369578   30.436016      12.115932   39.569524    6.875374   \n",
       "min       0.000000   44.000000      24.000000   14.000000   18.200000   \n",
       "25%       1.000000   99.750000      64.000000   79.799479   27.500000   \n",
       "50%       3.000000  117.000000      72.000000   79.799479   32.000000   \n",
       "75%       6.000000  140.250000      80.000000  118.660163   36.600000   \n",
       "max      17.000000  199.000000     122.000000  235.000000   67.100000   \n",
       "\n",
       "       familydiabetic         Age     Outcome  \n",
       "count      768.000000  768.000000  768.000000  \n",
       "mean         0.620685   33.240885    0.348958  \n",
       "std          0.299753   11.760232    0.476951  \n",
       "min          0.384115   21.000000    0.000000  \n",
       "25%          0.384115   24.000000    0.000000  \n",
       "50%          0.384115   29.000000    0.000000  \n",
       "75%          1.000000   41.000000    1.000000  \n",
       "max          1.000000   81.000000    1.000000  "
      ]
     },
     "execution_count": 142,
     "metadata": {},
     "output_type": "execute_result"
    }
   ],
   "source": [
    "#We will replace the 0 values in respective columns with the mean.\n",
    "for i in dataset.iloc[:,[1,2,3,4,5]]:\n",
    "    dataset[i]=dataset[i].replace(0,dataset[i].mean())\n",
    "    \n",
    "#We have replaced the 0 values with the mean in the respective columns.\n",
    "\n",
    "dataset.describe()"
   ]
  },
  {
   "cell_type": "code",
   "execution_count": 143,
   "id": "a538980c",
   "metadata": {},
   "outputs": [
    {
     "data": {
      "image/png": "[encoded data removed]",
      "text/plain": [
       "<Figure size 720x720 with 9 Axes>"
      ]
     },
     "metadata": {
      "needs_background": "light"
     },
     "output_type": "display_data"
    }
   ],
   "source": [
    "histogram = dataset.hist(bins=10,figsize=(10,10))"
   ]
  },
  {
   "cell_type": "code",
   "execution_count": null,
   "id": "7d44d3ce",
   "metadata": {},
   "outputs": [],
   "source": [
    "pairplot = sns.pairplot(dataset,hue='Outcome')\n",
    "pairplot = pairplot.fig.set_size_inches(20,20)\n",
    "\n"
   ]
  },
  {
   "cell_type": "code",
   "execution_count": null,
   "id": "ae60cf4d",
   "metadata": {},
   "outputs": [],
   "source": [
    "#Correlation Analysis\n",
    "\n",
    "corr = dataset.corr()\n",
    "plt.figure(figsize=(10,10))\n",
    "g = sns.heatmap(corr,annot=True,cmap=\"RdYlGn\")\n"
   ]
  },
  {
   "cell_type": "code",
   "execution_count": null,
   "id": "4aecad5d",
   "metadata": {},
   "outputs": [],
   "source": [
    "fig, ax = plt.subplots(ncols=5, nrows=2, figsize=(18, 10))\n",
    "ax = ax.flatten()\n",
    "n_index = 0\n",
    "for i in dataset.columns:\n",
    "  sns.boxplot(y=i,data=dataset, ax=ax[n_index])\n",
    "  n_index +=1\n",
    "plt.tight_layout(pad=0.4)\n",
    "plt.show()"
   ]
  },
  {
   "cell_type": "code",
   "execution_count": null,
   "id": "e8b36f86",
   "metadata": {},
   "outputs": [],
   "source": [
    "#running a loop to detect the number of outliers\n",
    "\n",
    "for i in dataset.columns:\n",
    "    dataset.sort_values(by=i,ascending=True,na_position='last')\n",
    "    q1 = np.nanpercentile(dataset[i],25)\n",
    "    q3 = np.nanpercentile(dataset[i],75)\n",
    "    iq_range = q3 - q1\n",
    "    upper_bound = q3 + (iq_range*1.5)\n",
    "    lower_bound = q1-(iq_range*1.5)\n",
    "    outlier_data = dataset[i][(dataset[i] < lower_bound) | (dataset[i] > upper_bound)]\n",
    "    percentage = (outlier_data.count()/dataset[i].count())*100\n",
    "    print(f\"{round(percentage,2)}% of the data in {i} are outliers, with a count of {outlier_data.count()}\")\n",
    "\n",
    "    \n",
    "    \n",
    "   \n",
    "    "
   ]
  },
  {
   "cell_type": "code",
   "execution_count": null,
   "id": "c5af8180",
   "metadata": {},
   "outputs": [],
   "source": [
    "# Calculate the quartiles and IQR for the 'Insulin' column\n",
    "insulin_sorted = dataset['Insulin'].sort_values(ascending=True, na_position='last')\n",
    "insulin_q1 = np.nanpercentile(insulin_sorted, 25)\n",
    "insulin_q3 = np.nanpercentile(insulin_sorted, 75)\n",
    "insulin_iqr = insulin_q3 - insulin_q1\n",
    "\n",
    "# Compute the extreme lower and upper bounds\n",
    "insulin_extreme_lower_bound = insulin_q1 - (insulin_iqr * 3)\n",
    "insulin_extreme_upper_bound = insulin_q3 + (insulin_iqr * 3)\n",
    "\n",
    "# Identify outliers in the 'Insulin' column\n",
    "insulin_outliers = (dataset['Insulin'] < insulin_extreme_lower_bound) | (dataset['Insulin'] > insulin_extreme_upper_bound)\n",
    "insulin_outliers_vector = dataset['Insulin'][insulin_outliers]\n",
    "\n",
    "# Replace outliers with the mean of the 'Insulin' column\n",
    "insulin_mean = dataset['Insulin'].mean()\n",
    "dataset.loc[insulin_outliers, 'Insulin'] = insulin_mean"
   ]
  },
  {
   "cell_type": "code",
   "execution_count": null,
   "id": "8e794bd2",
   "metadata": {},
   "outputs": [],
   "source": [
    "#splitting the dataset into predictor and target variables.\n",
    "\n",
    "X = dataset.iloc[:,:-1]\n",
    "Y = dataset.iloc[:,-1]"
   ]
  },
  {
   "cell_type": "code",
   "execution_count": null,
   "id": "658f458a",
   "metadata": {},
   "outputs": [],
   "source": [
    "X"
   ]
  },
  {
   "cell_type": "code",
   "execution_count": null,
   "id": "3e847014",
   "metadata": {},
   "outputs": [],
   "source": [
    "#Using VIF to check for multicollinearity. \n",
    "# function to check VIF\n",
    "def checking_vif(train):\n",
    "    vif = pd.DataFrame()\n",
    "    vif[\"feature\"] = train.columns\n",
    "\n",
    "    # calculating VIF for each feature\n",
    "    vif[\"VIF\"] = [\n",
    "        variance_inflation_factor(train.values, i) for i in range(len(train.columns))\n",
    "    ]\n",
    "    return vif\n",
    "\n",
    "\n",
    "print(checking_vif(X))"
   ]
  },
  {
   "cell_type": "code",
   "execution_count": null,
   "id": "92ccbbd7",
   "metadata": {},
   "outputs": [],
   "source": [
    "#applying scaling \n",
    "\n",
    "scaler = StandardScaler()\n",
    "X = scaler.fit_transform(X)\n",
    "\n",
    "#Y = scaler.fit_transform((Y.values).reshape(-1,1))\n",
    "\n",
    "#We will not scale our target variable as we want to keep the values to 0 and 1."
   ]
  },
  {
   "cell_type": "markdown",
   "id": "eeb667c9",
   "metadata": {},
   "source": [
    "### Train Test Split"
   ]
  },
  {
   "cell_type": "code",
   "execution_count": null,
   "id": "97138d6f",
   "metadata": {},
   "outputs": [],
   "source": [
    "\n",
    "X_train, X_test, Y_train, Y_test = train_test_split(X,Y,train_size = 0.7,random_state=52)"
   ]
  },
  {
   "cell_type": "code",
   "execution_count": null,
   "id": "8b137fa6",
   "metadata": {},
   "outputs": [],
   "source": [
    "\n",
    "pca = PCA(n_components=0.95)  # Retain 95% of the variance in the original data\n",
    "X_train = pca.fit_transform(X_train)\n",
    "X_test = pca.transform(X_test)"
   ]
  },
  {
   "cell_type": "code",
   "execution_count": null,
   "id": "762e740b",
   "metadata": {},
   "outputs": [],
   "source": [
    "X_train.shape, Y_train.shape, X_test.shape, Y_test.shape"
   ]
  },
  {
   "cell_type": "markdown",
   "id": "742be566",
   "metadata": {},
   "source": [
    "### Building Classification Algorithms"
   ]
  },
  {
   "cell_type": "code",
   "execution_count": null,
   "id": "aea78d41",
   "metadata": {},
   "outputs": [],
   "source": [
    "#Random Forest \n",
    "\n",
    "rf = RandomForestClassifier(random_state=99)\n",
    "rf_model = rf.fit(X_train,Y_train)"
   ]
  },
  {
   "cell_type": "code",
   "execution_count": null,
   "id": "888e66d2",
   "metadata": {},
   "outputs": [],
   "source": [
    "#Logistic Regression\n",
    "\n",
    "logr = LogisticRegression(random_state=99)\n",
    "logr_model = logr.fit(X_train,Y_train)"
   ]
  },
  {
   "cell_type": "code",
   "execution_count": null,
   "id": "607fa829",
   "metadata": {},
   "outputs": [],
   "source": [
    "#Support Vector Machine \n",
    "\n",
    "svm = SVC(probability=True,random_state=99)\n",
    "svm_model = svm.fit(X_train,Y_train)"
   ]
  },
  {
   "cell_type": "code",
   "execution_count": null,
   "id": "1e695d1f",
   "metadata": {},
   "outputs": [],
   "source": [
    "#K-Nearest Neighbor\n",
    "\n",
    "knn = KNeighborsClassifier()\n",
    "knn_model = knn.fit(X_train,Y_train)"
   ]
  },
  {
   "cell_type": "code",
   "execution_count": null,
   "id": "80417b58",
   "metadata": {},
   "outputs": [],
   "source": [
    "#Naive Bayes \n",
    "\n",
    "nb = GaussianNB()\n",
    "nb_model = nb.fit(X_train,Y_train)"
   ]
  },
  {
   "cell_type": "markdown",
   "id": "2c8eef87",
   "metadata": {},
   "source": [
    "Making predictions using the respective models"
   ]
  },
  {
   "cell_type": "code",
   "execution_count": null,
   "id": "fdcf152b",
   "metadata": {},
   "outputs": [],
   "source": [
    "rf_pred = rf_model.predict(X_test)\n",
    "logr_pred = logr_model.predict(X_test)\n",
    "svm_pred = svm_model.predict(X_test)\n",
    "knn_pred = knn_model.predict(X_test)\n",
    "nb_pred = nb_model.predict(X_test)"
   ]
  },
  {
   "cell_type": "code",
   "execution_count": null,
   "id": "abf9df87",
   "metadata": {},
   "outputs": [],
   "source": [
    "classifiers = [rf,logr,svm,knn,nb]\n",
    "models = [rf_model,logr_model,svm_model,knn_model,nb_model]\n",
    "preds = [rf_pred,logr_pred,svm_pred,knn_pred,nb_pred]\n",
    "model_names =[\"Random Forest\", \"Logistic Regression\", \"Support Vector Machine\",\"K-Nearest Neighbor\", \"Naive Bayes\"]"
   ]
  },
  {
   "cell_type": "code",
   "execution_count": null,
   "id": "70908a7d",
   "metadata": {},
   "outputs": [],
   "source": [
    "for (i , j ,h) in zip(model_names,classifiers,preds):\n",
    "    print(\"Train Accuracy of\" ,i , round(j.score(X_train,Y_train)*100,2))\n",
    "    print(\"Test Accuracy of\" ,i , round(j.score(X_test,Y_test)*100,2))\n",
    "    print(\"Accuracy Score of\" ,i , round(accuracy_score(Y_test,h)*100,2))\n",
    "    print(\"-------------------------------------------------\")"
   ]
  },
  {
   "cell_type": "markdown",
   "id": "de6a07d8",
   "metadata": {},
   "source": [
    "### Precision Score , F1 score , Accuracy Score"
   ]
  },
  {
   "cell_type": "code",
   "execution_count": null,
   "id": "8773cc67",
   "metadata": {},
   "outputs": [],
   "source": [
    "for (i , j ) in zip(model_names,preds):\n",
    "    print(f\"Precision Score of {i} is {round(precision_score(Y_test,j)*100,2)}\")\n",
    "    print(\"-----------------------------------------------------------\")\n",
    "\n",
    "    #Since we are using binary class, we do not have to evaluate the micro average precision, \n",
    "    #macro average precision , weighted average precision and precision score on non weighted\"\n",
    "    "
   ]
  },
  {
   "cell_type": "code",
   "execution_count": null,
   "id": "0a0b1ea0",
   "metadata": {},
   "outputs": [],
   "source": [
    "for (i , j ) in zip(model_names,preds):\n",
    "    print(f\"Classification report of {i}  \\n{classification_report(Y_test,j,digits=3)}\")\n",
    "    print(\"------------------------------------------------------------------------\")"
   ]
  },
  {
   "cell_type": "markdown",
   "id": "0d6c58ab",
   "metadata": {},
   "source": [
    "ROC & AUC Curve"
   ]
  },
  {
   "cell_type": "code",
   "execution_count": null,
   "id": "768273d2",
   "metadata": {},
   "outputs": [],
   "source": [
    "models = {\n",
    "    'Random Forest': rf_model,\n",
    "    'Logistic Regression': logr_model,\n",
    "    'Support Vector Machine': svm_model,\n",
    "    'K-Nearest Neighbor': knn_model,\n",
    "    'Naive Bayes': nb_model\n",
    "}\n",
    "\n",
    "# Function to plot confusion matrix for each model using seaborn\n",
    "def plot_confusion_matrices(models, X_test, y_test):\n",
    "    for name, model in models.items():\n",
    "        y_pred = model.predict(X_test)\n",
    "        cm = confusion_matrix(y_test, y_pred)\n",
    "        \n",
    "        plt.figure(figsize=(6, 4))\n",
    "        sns.heatmap(cm, annot=True, cmap='Blues', fmt='g', xticklabels=['1', '0'], yticklabels=['1', '0'])\n",
    "        plt.xlabel('Predicted Labels')\n",
    "        plt.ylabel('True Labels')\n",
    "        plt.title(f'{name} Confusion Matrix')\n",
    "        plt.show()\n",
    "\n",
    "# Call the function to plot confusion matrices using seaborn\n",
    "plot_confusion_matrices(models, X_test, Y_test)"
   ]
  },
  {
   "cell_type": "code",
   "execution_count": null,
   "id": "3e91218d",
   "metadata": {},
   "outputs": [],
   "source": [
    "# Function to plot ROC curve for each model\n",
    "def plot_roc_curves(models, X_test, Y_test):\n",
    "    plt.figure()\n",
    "    for name, model in models.items():\n",
    "        y_pred_proba = model.predict_proba(X_test)[:, 1]\n",
    "        fpr, tpr, _ = roc_curve(Y_test, y_pred_proba)\n",
    "        roc_auc = auc(fpr, tpr)\n",
    "        plt.plot(fpr, tpr, lw=2, label=f'{name} (area = {roc_auc:.2f})')\n",
    "\n",
    "    plt.plot([0, 1], [0, 1], color='black', lw=1, linestyle='--')\n",
    "    plt.xlim([0.0, 1.0])\n",
    "    plt.ylim([0.0, 1.05])\n",
    "    plt.xlabel('False Positive Rate')\n",
    "    plt.ylabel('True Positive Rate')\n",
    "    plt.title('Receiver Operating Characteristic')\n",
    "    plt.legend(loc=\"lower right\")\n",
    "    plt.show()\n",
    "\n",
    "# Call the function to plot ROC curves\n",
    "plot_roc_curves(models, X_test, Y_test)"
   ]
  },
  {
   "cell_type": "code",
   "execution_count": null,
   "id": "22f87974",
   "metadata": {},
   "outputs": [],
   "source": [
    "def plot_precision_recall_curves(models, X_test, Y_test):\n",
    "    plt.figure()\n",
    "    for name, model in models.items():\n",
    "        y_pred_proba = model.predict_proba(X_test)[:, 1]\n",
    "        precision, recall, _ = precision_recall_curve(Y_test, y_pred_proba)\n",
    "        average_precision = average_precision_score(Y_test, y_pred_proba)\n",
    "        plt.plot(recall, precision, lw=2, label=f'{name} (AP = {average_precision:.2f})')\n",
    "\n",
    "    plt.xlim([0.0, 1.0])\n",
    "    plt.ylim([0.0, 1.05])\n",
    "    plt.xlabel('Recall')\n",
    "    plt.ylabel('Precision')\n",
    "    plt.title('Precision-Recall Curve')\n",
    "    plt.legend(loc=\"upper right\")\n",
    "    plt.show()\n",
    "plot_precision_recall_curves(models, X_test, Y_test)"
   ]
  },
  {
   "cell_type": "code",
   "execution_count": null,
   "id": "8818ffac",
   "metadata": {},
   "outputs": [],
   "source": [
    "X_original = dataset.iloc[:,:-1]\n",
    "\n",
    "# Train logistic regression on the original features\n",
    "logr_original = LogisticRegression(random_state=99)\n",
    "logr_original.fit(X_original, Y)\n",
    "\n",
    "# Get the coefficients\n",
    "coefficients_original = pd.Series(logr_original.coef_[0], index=X_original.columns)\n",
    "abs_coefficients_original = coefficients_original.abs().sort_values(ascending=False)\n",
    "\n",
    "# Set the custom color palette\n",
    "colors = [\"#0072B2\", \"#009E73\", \"#D55E00\", \"#CC79A7\", \"#F0E442\", \"#56B4E9\"]\n",
    "palette = sns.color_palette(colors)\n",
    "\n",
    "# Create the bar plot\n",
    "fig, ax = plt.subplots(figsize=(7, 5))\n",
    "bar_plot = sns.barplot(x=abs_coefficients_original, y=abs_coefficients_original.index, palette=palette, ax=ax)\n",
    "ax.set_title('Feature Importances based on Logistic Regression')\n",
    "ax.set_xlabel('Absolute Coefficient Value')\n",
    "ax.set_ylabel('Features')\n",
    "\n",
    "# Add labels to the bars\n",
    "for p in bar_plot.patches:\n",
    "    width = p.get_width()\n",
    "    bar_plot.annotate('{:.3f}'.format(width), (width, p.get_y() + p.get_height() / 2), ha=\"left\", va=\"center\")\n",
    "\n",
    "# Display the plot\n",
    "plt.show()"
   ]
  },
  {
   "cell_type": "code",
   "execution_count": 136,
   "id": "33ee24a6",
   "metadata": {},
   "outputs": [
    {
     "ename": "ValueError",
     "evalue": "X has 8 features, but LogisticRegression is expecting 7 features as input.",
     "output_type": "error",
     "traceback": [
      "\u001b[1;31m---------------------------------------------------------------------------\u001b[0m",
      "\u001b[1;31mValueError\u001b[0m                                Traceback (most recent call last)",
      "\u001b[1;32m<ipython-input-136-d3e051b5eca7>\u001b[0m in \u001b[0;36m<module>\u001b[1;34m\u001b[0m\n\u001b[0;32m      5\u001b[0m \u001b[0minput_data_reshaped\u001b[0m \u001b[1;33m=\u001b[0m \u001b[0minput_data_as_numpy_array\u001b[0m\u001b[1;33m.\u001b[0m\u001b[0mreshape\u001b[0m\u001b[1;33m(\u001b[0m\u001b[1;36m1\u001b[0m\u001b[1;33m,\u001b[0m\u001b[1;33m-\u001b[0m\u001b[1;36m1\u001b[0m\u001b[1;33m)\u001b[0m\u001b[1;33m\u001b[0m\u001b[1;33m\u001b[0m\u001b[0m\n\u001b[0;32m      6\u001b[0m \u001b[1;33m\u001b[0m\u001b[0m\n\u001b[1;32m----> 7\u001b[1;33m \u001b[0mprediction\u001b[0m \u001b[1;33m=\u001b[0m \u001b[0mlogr_model\u001b[0m\u001b[1;33m.\u001b[0m\u001b[0mpredict\u001b[0m\u001b[1;33m(\u001b[0m\u001b[0minput_data_reshaped\u001b[0m\u001b[1;33m)\u001b[0m\u001b[1;33m\u001b[0m\u001b[1;33m\u001b[0m\u001b[0m\n\u001b[0m\u001b[0;32m      8\u001b[0m \u001b[1;33m\u001b[0m\u001b[0m\n\u001b[0;32m      9\u001b[0m \u001b[1;32mif\u001b[0m \u001b[1;33m(\u001b[0m\u001b[0mprediction\u001b[0m\u001b[1;33m[\u001b[0m\u001b[1;36m0\u001b[0m\u001b[1;33m]\u001b[0m \u001b[1;33m==\u001b[0m\u001b[1;36m0\u001b[0m\u001b[1;33m)\u001b[0m\u001b[1;33m:\u001b[0m\u001b[1;33m\u001b[0m\u001b[1;33m\u001b[0m\u001b[0m\n",
      "\u001b[1;32m~\\anaconda3\\lib\\site-packages\\sklearn\\linear_model\\_base.py\u001b[0m in \u001b[0;36mpredict\u001b[1;34m(self, X)\u001b[0m\n\u001b[0;32m    417\u001b[0m         \"\"\"\n\u001b[0;32m    418\u001b[0m         \u001b[0mxp\u001b[0m\u001b[1;33m,\u001b[0m \u001b[0m_\u001b[0m \u001b[1;33m=\u001b[0m \u001b[0mget_namespace\u001b[0m\u001b[1;33m(\u001b[0m\u001b[0mX\u001b[0m\u001b[1;33m)\u001b[0m\u001b[1;33m\u001b[0m\u001b[1;33m\u001b[0m\u001b[0m\n\u001b[1;32m--> 419\u001b[1;33m         \u001b[0mscores\u001b[0m \u001b[1;33m=\u001b[0m \u001b[0mself\u001b[0m\u001b[1;33m.\u001b[0m\u001b[0mdecision_function\u001b[0m\u001b[1;33m(\u001b[0m\u001b[0mX\u001b[0m\u001b[1;33m)\u001b[0m\u001b[1;33m\u001b[0m\u001b[1;33m\u001b[0m\u001b[0m\n\u001b[0m\u001b[0;32m    420\u001b[0m         \u001b[1;32mif\u001b[0m \u001b[0mlen\u001b[0m\u001b[1;33m(\u001b[0m\u001b[0mscores\u001b[0m\u001b[1;33m.\u001b[0m\u001b[0mshape\u001b[0m\u001b[1;33m)\u001b[0m \u001b[1;33m==\u001b[0m \u001b[1;36m1\u001b[0m\u001b[1;33m:\u001b[0m\u001b[1;33m\u001b[0m\u001b[1;33m\u001b[0m\u001b[0m\n\u001b[0;32m    421\u001b[0m             \u001b[0mindices\u001b[0m \u001b[1;33m=\u001b[0m \u001b[0mxp\u001b[0m\u001b[1;33m.\u001b[0m\u001b[0mastype\u001b[0m\u001b[1;33m(\u001b[0m\u001b[0mscores\u001b[0m \u001b[1;33m>\u001b[0m \u001b[1;36m0\u001b[0m\u001b[1;33m,\u001b[0m \u001b[0mint\u001b[0m\u001b[1;33m)\u001b[0m\u001b[1;33m\u001b[0m\u001b[1;33m\u001b[0m\u001b[0m\n",
      "\u001b[1;32m~\\anaconda3\\lib\\site-packages\\sklearn\\linear_model\\_base.py\u001b[0m in \u001b[0;36mdecision_function\u001b[1;34m(self, X)\u001b[0m\n\u001b[0;32m    398\u001b[0m         \u001b[0mxp\u001b[0m\u001b[1;33m,\u001b[0m \u001b[0m_\u001b[0m \u001b[1;33m=\u001b[0m \u001b[0mget_namespace\u001b[0m\u001b[1;33m(\u001b[0m\u001b[0mX\u001b[0m\u001b[1;33m)\u001b[0m\u001b[1;33m\u001b[0m\u001b[1;33m\u001b[0m\u001b[0m\n\u001b[0;32m    399\u001b[0m \u001b[1;33m\u001b[0m\u001b[0m\n\u001b[1;32m--> 400\u001b[1;33m         \u001b[0mX\u001b[0m \u001b[1;33m=\u001b[0m \u001b[0mself\u001b[0m\u001b[1;33m.\u001b[0m\u001b[0m_validate_data\u001b[0m\u001b[1;33m(\u001b[0m\u001b[0mX\u001b[0m\u001b[1;33m,\u001b[0m \u001b[0maccept_sparse\u001b[0m\u001b[1;33m=\u001b[0m\u001b[1;34m\"csr\"\u001b[0m\u001b[1;33m,\u001b[0m \u001b[0mreset\u001b[0m\u001b[1;33m=\u001b[0m\u001b[1;32mFalse\u001b[0m\u001b[1;33m)\u001b[0m\u001b[1;33m\u001b[0m\u001b[1;33m\u001b[0m\u001b[0m\n\u001b[0m\u001b[0;32m    401\u001b[0m         \u001b[0mscores\u001b[0m \u001b[1;33m=\u001b[0m \u001b[0msafe_sparse_dot\u001b[0m\u001b[1;33m(\u001b[0m\u001b[0mX\u001b[0m\u001b[1;33m,\u001b[0m \u001b[0mself\u001b[0m\u001b[1;33m.\u001b[0m\u001b[0mcoef_\u001b[0m\u001b[1;33m.\u001b[0m\u001b[0mT\u001b[0m\u001b[1;33m,\u001b[0m \u001b[0mdense_output\u001b[0m\u001b[1;33m=\u001b[0m\u001b[1;32mTrue\u001b[0m\u001b[1;33m)\u001b[0m \u001b[1;33m+\u001b[0m \u001b[0mself\u001b[0m\u001b[1;33m.\u001b[0m\u001b[0mintercept_\u001b[0m\u001b[1;33m\u001b[0m\u001b[1;33m\u001b[0m\u001b[0m\n\u001b[0;32m    402\u001b[0m         \u001b[1;32mreturn\u001b[0m \u001b[0mxp\u001b[0m\u001b[1;33m.\u001b[0m\u001b[0mreshape\u001b[0m\u001b[1;33m(\u001b[0m\u001b[0mscores\u001b[0m\u001b[1;33m,\u001b[0m \u001b[1;33m-\u001b[0m\u001b[1;36m1\u001b[0m\u001b[1;33m)\u001b[0m \u001b[1;32mif\u001b[0m \u001b[0mscores\u001b[0m\u001b[1;33m.\u001b[0m\u001b[0mshape\u001b[0m\u001b[1;33m[\u001b[0m\u001b[1;36m1\u001b[0m\u001b[1;33m]\u001b[0m \u001b[1;33m==\u001b[0m \u001b[1;36m1\u001b[0m \u001b[1;32melse\u001b[0m \u001b[0mscores\u001b[0m\u001b[1;33m\u001b[0m\u001b[1;33m\u001b[0m\u001b[0m\n",
      "\u001b[1;32m~\\anaconda3\\lib\\site-packages\\sklearn\\base.py\u001b[0m in \u001b[0;36m_validate_data\u001b[1;34m(self, X, y, reset, validate_separately, **check_params)\u001b[0m\n\u001b[0;32m    586\u001b[0m \u001b[1;33m\u001b[0m\u001b[0m\n\u001b[0;32m    587\u001b[0m         \u001b[1;32mif\u001b[0m \u001b[1;32mnot\u001b[0m \u001b[0mno_val_X\u001b[0m \u001b[1;32mand\u001b[0m \u001b[0mcheck_params\u001b[0m\u001b[1;33m.\u001b[0m\u001b[0mget\u001b[0m\u001b[1;33m(\u001b[0m\u001b[1;34m\"ensure_2d\"\u001b[0m\u001b[1;33m,\u001b[0m \u001b[1;32mTrue\u001b[0m\u001b[1;33m)\u001b[0m\u001b[1;33m:\u001b[0m\u001b[1;33m\u001b[0m\u001b[1;33m\u001b[0m\u001b[0m\n\u001b[1;32m--> 588\u001b[1;33m             \u001b[0mself\u001b[0m\u001b[1;33m.\u001b[0m\u001b[0m_check_n_features\u001b[0m\u001b[1;33m(\u001b[0m\u001b[0mX\u001b[0m\u001b[1;33m,\u001b[0m \u001b[0mreset\u001b[0m\u001b[1;33m=\u001b[0m\u001b[0mreset\u001b[0m\u001b[1;33m)\u001b[0m\u001b[1;33m\u001b[0m\u001b[1;33m\u001b[0m\u001b[0m\n\u001b[0m\u001b[0;32m    589\u001b[0m \u001b[1;33m\u001b[0m\u001b[0m\n\u001b[0;32m    590\u001b[0m         \u001b[1;32mreturn\u001b[0m \u001b[0mout\u001b[0m\u001b[1;33m\u001b[0m\u001b[1;33m\u001b[0m\u001b[0m\n",
      "\u001b[1;32m~\\anaconda3\\lib\\site-packages\\sklearn\\base.py\u001b[0m in \u001b[0;36m_check_n_features\u001b[1;34m(self, X, reset)\u001b[0m\n\u001b[0;32m    387\u001b[0m \u001b[1;33m\u001b[0m\u001b[0m\n\u001b[0;32m    388\u001b[0m         \u001b[1;32mif\u001b[0m \u001b[0mn_features\u001b[0m \u001b[1;33m!=\u001b[0m \u001b[0mself\u001b[0m\u001b[1;33m.\u001b[0m\u001b[0mn_features_in_\u001b[0m\u001b[1;33m:\u001b[0m\u001b[1;33m\u001b[0m\u001b[1;33m\u001b[0m\u001b[0m\n\u001b[1;32m--> 389\u001b[1;33m             raise ValueError(\n\u001b[0m\u001b[0;32m    390\u001b[0m                 \u001b[1;34mf\"X has {n_features} features, but {self.__class__.__name__} \"\u001b[0m\u001b[1;33m\u001b[0m\u001b[1;33m\u001b[0m\u001b[0m\n\u001b[0;32m    391\u001b[0m                 \u001b[1;34mf\"is expecting {self.n_features_in_} features as input.\"\u001b[0m\u001b[1;33m\u001b[0m\u001b[1;33m\u001b[0m\u001b[0m\n",
      "\u001b[1;31mValueError\u001b[0m: X has 8 features, but LogisticRegression is expecting 7 features as input."
     ]
    }
   ],
   "source": [
    "input_data = (150,150,150,150,150,150,150)\n",
    "\n",
    "input_data_as_numpy_array = np.asarray(input_data)\n",
    "\n",
    "input_data_reshaped = input_data_as_numpy_array.reshape(1,-1)\n",
    "\n",
    "prediction = logr_model.predict(input_data_reshaped)\n",
    "\n",
    "if (prediction[0] ==0):\n",
    "    print(\"This person is not diabetic.\")\n",
    "else:\n",
    "    print(\"This person is diabetic.\")"
   ]
  },
  {
   "cell_type": "code",
   "execution_count": null,
   "id": "bd3bf42b",
   "metadata": {},
   "outputs": [],
   "source": []
  },
  {
   "cell_type": "code",
   "execution_count": null,
   "id": "a133915d",
   "metadata": {},
   "outputs": [],
   "source": []
  },
  {
   "cell_type": "markdown",
   "id": "0a8b9bee",
   "metadata": {},
   "source": [
    "### Saving the trained model (Logistic Regression)"
   ]
  },
  {
   "cell_type": "code",
   "execution_count": null,
   "id": "93b800fa",
   "metadata": {},
   "outputs": [],
   "source": [
    "import pickle"
   ]
  },
  {
   "cell_type": "code",
   "execution_count": null,
   "id": "0f44c9ea",
   "metadata": {},
   "outputs": [],
   "source": [
    "model = 'trained_model.sav'\n",
    "pickle.dump(logr_model,open(model,'wb'))"
   ]
  },
  {
   "cell_type": "code",
   "execution_count": null,
   "id": "696f0789",
   "metadata": {},
   "outputs": [],
   "source": [
    "#loading the saved model\n",
    "loaded_model = pickle.load(open('trained_model.sav','rb'))"
   ]
  },
  {
   "cell_type": "code",
   "execution_count": null,
   "id": "e76eec41",
   "metadata": {},
   "outputs": [],
   "source": [
    "input_data = (5,5,5,5,5,5)\n",
    "\n",
    "input_data_as_numpy_array = np.asarray(input_data)\n",
    "\n",
    "input_data_reshaped = input_data_as_numpy_array.reshape(1,-1)\n",
    "\n",
    "prediction = loaded_model.predict(input_data_reshaped)\n",
    "\n",
    "if (prediction[0] ==0):\n",
    "    print(\"This person is not diabetic.\")\n",
    "else:\n",
    "    print(\"This person is diabetic.\")"
   ]
  }
 ],
 "metadata": {
  "kernelspec": {
   "display_name": "Python 3",
   "language": "python",
   "name": "python3"
  },
  "language_info": {
   "codemirror_mode": {
    "name": "ipython",
    "version": 3
   },
   "file_extension": ".py",
   "mimetype": "text/x-python",
   "name": "python",
   "nbconvert_exporter": "python",
   "pygments_lexer": "ipython3",
   "version": "3.8.8"
  }
 },
 "nbformat": 4,
 "nbformat_minor": 5
}
